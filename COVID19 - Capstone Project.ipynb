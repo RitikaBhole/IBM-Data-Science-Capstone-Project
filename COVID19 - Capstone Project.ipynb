{
 "cells": [
  {
   "cell_type": "markdown",
   "metadata": {},
   "source": [
    "# Capstone Project"
   ]
  },
  {
   "cell_type": "markdown",
   "metadata": {},
   "source": [
    "# Analyzing and Predicting the Trends of Covid19 in India"
   ]
  },
  {
   "cell_type": "markdown",
   "metadata": {},
   "source": [
    "# Data Processing and Analysis"
   ]
  },
  {
   "cell_type": "markdown",
   "metadata": {},
   "source": [
    "*Importing the necessary libraries*"
   ]
  },
  {
   "cell_type": "code",
   "execution_count": 2,
   "metadata": {},
   "outputs": [],
   "source": [
    "import pandas as pd\n",
    "import numpy as np\n",
    "import seaborn as sns\n",
    "import matplotlib.pyplot as plt\n",
    "from scipy.optimize import curve_fit"
   ]
  },
  {
   "cell_type": "code",
   "execution_count": 3,
   "metadata": {},
   "outputs": [],
   "source": [
    "data = pd.read_csv(\"complete.csv\")"
   ]
  },
  {
   "cell_type": "code",
   "execution_count": 4,
   "metadata": {},
   "outputs": [
    {
     "data": {
      "text/html": [
       "<div>\n",
       "<style scoped>\n",
       "    .dataframe tbody tr th:only-of-type {\n",
       "        vertical-align: middle;\n",
       "    }\n",
       "\n",
       "    .dataframe tbody tr th {\n",
       "        vertical-align: top;\n",
       "    }\n",
       "\n",
       "    .dataframe thead th {\n",
       "        text-align: right;\n",
       "    }\n",
       "</style>\n",
       "<table border=\"1\" class=\"dataframe\">\n",
       "  <thead>\n",
       "    <tr style=\"text-align: right;\">\n",
       "      <th></th>\n",
       "      <th>Date</th>\n",
       "      <th>Name of State / UT</th>\n",
       "      <th>Total Confirmed cases (Indian National)</th>\n",
       "      <th>Total Confirmed cases ( Foreign National )</th>\n",
       "      <th>Cured/Discharged/Migrated</th>\n",
       "      <th>Latitude</th>\n",
       "      <th>Longitude</th>\n",
       "      <th>Death</th>\n",
       "      <th>Total Confirmed cases</th>\n",
       "    </tr>\n",
       "  </thead>\n",
       "  <tbody>\n",
       "    <tr>\n",
       "      <th>0</th>\n",
       "      <td>2020-01-30</td>\n",
       "      <td>Kerala</td>\n",
       "      <td>1</td>\n",
       "      <td>0</td>\n",
       "      <td>0</td>\n",
       "      <td>10.8505</td>\n",
       "      <td>76.2711</td>\n",
       "      <td>0</td>\n",
       "      <td>1</td>\n",
       "    </tr>\n",
       "    <tr>\n",
       "      <th>1</th>\n",
       "      <td>2020-01-31</td>\n",
       "      <td>Kerala</td>\n",
       "      <td>1</td>\n",
       "      <td>0</td>\n",
       "      <td>0</td>\n",
       "      <td>10.8505</td>\n",
       "      <td>76.2711</td>\n",
       "      <td>0</td>\n",
       "      <td>1</td>\n",
       "    </tr>\n",
       "    <tr>\n",
       "      <th>2</th>\n",
       "      <td>2020-02-01</td>\n",
       "      <td>Kerala</td>\n",
       "      <td>2</td>\n",
       "      <td>0</td>\n",
       "      <td>0</td>\n",
       "      <td>10.8505</td>\n",
       "      <td>76.2711</td>\n",
       "      <td>0</td>\n",
       "      <td>2</td>\n",
       "    </tr>\n",
       "    <tr>\n",
       "      <th>3</th>\n",
       "      <td>2020-02-02</td>\n",
       "      <td>Kerala</td>\n",
       "      <td>3</td>\n",
       "      <td>0</td>\n",
       "      <td>0</td>\n",
       "      <td>10.8505</td>\n",
       "      <td>76.2711</td>\n",
       "      <td>0</td>\n",
       "      <td>3</td>\n",
       "    </tr>\n",
       "    <tr>\n",
       "      <th>4</th>\n",
       "      <td>2020-02-03</td>\n",
       "      <td>Kerala</td>\n",
       "      <td>3</td>\n",
       "      <td>0</td>\n",
       "      <td>0</td>\n",
       "      <td>10.8505</td>\n",
       "      <td>76.2711</td>\n",
       "      <td>0</td>\n",
       "      <td>3</td>\n",
       "    </tr>\n",
       "  </tbody>\n",
       "</table>\n",
       "</div>"
      ],
      "text/plain": [
       "         Date Name of State / UT  Total Confirmed cases (Indian National)  \\\n",
       "0  2020-01-30             Kerala                                        1   \n",
       "1  2020-01-31             Kerala                                        1   \n",
       "2  2020-02-01             Kerala                                        2   \n",
       "3  2020-02-02             Kerala                                        3   \n",
       "4  2020-02-03             Kerala                                        3   \n",
       "\n",
       "   Total Confirmed cases ( Foreign National )  Cured/Discharged/Migrated  \\\n",
       "0                                           0                          0   \n",
       "1                                           0                          0   \n",
       "2                                           0                          0   \n",
       "3                                           0                          0   \n",
       "4                                           0                          0   \n",
       "\n",
       "   Latitude  Longitude  Death  Total Confirmed cases  \n",
       "0   10.8505    76.2711      0                      1  \n",
       "1   10.8505    76.2711      0                      1  \n",
       "2   10.8505    76.2711      0                      2  \n",
       "3   10.8505    76.2711      0                      3  \n",
       "4   10.8505    76.2711      0                      3  "
      ]
     },
     "execution_count": 4,
     "metadata": {},
     "output_type": "execute_result"
    }
   ],
   "source": [
    "data.head()"
   ]
  },
  {
   "cell_type": "code",
   "execution_count": 5,
   "metadata": {},
   "outputs": [
    {
     "name": "stdout",
     "output_type": "stream",
     "text": [
      "<class 'pandas.core.frame.DataFrame'>\n",
      "RangeIndex: 1365 entries, 0 to 1364\n",
      "Data columns (total 9 columns):\n",
      "Date                                          1365 non-null object\n",
      "Name of State / UT                            1365 non-null object\n",
      "Total Confirmed cases (Indian National)       1365 non-null int64\n",
      "Total Confirmed cases ( Foreign National )    1365 non-null int64\n",
      "Cured/Discharged/Migrated                     1365 non-null int64\n",
      "Latitude                                      1365 non-null float64\n",
      "Longitude                                     1365 non-null float64\n",
      "Death                                         1365 non-null int64\n",
      "Total Confirmed cases                         1365 non-null int64\n",
      "dtypes: float64(2), int64(5), object(2)\n",
      "memory usage: 96.1+ KB\n"
     ]
    }
   ],
   "source": [
    "data.info()"
   ]
  },
  {
   "cell_type": "markdown",
   "metadata": {},
   "source": [
    "*There are no null values, and the data is clean*"
   ]
  },
  {
   "cell_type": "markdown",
   "metadata": {},
   "source": [
    "## Feature generation and selection"
   ]
  },
  {
   "cell_type": "markdown",
   "metadata": {},
   "source": [
    "The dtype of <code>Date</code> is <code>object</code>. Thus, changing it to the <code>date</code> datatype would give us the option to extract more data from the attribute."
   ]
  },
  {
   "cell_type": "code",
   "execution_count": 6,
   "metadata": {},
   "outputs": [],
   "source": [
    "data['Date'] = pd.to_datetime(data['Date'])"
   ]
  },
  {
   "cell_type": "code",
   "execution_count": 7,
   "metadata": {},
   "outputs": [
    {
     "name": "stdout",
     "output_type": "stream",
     "text": [
      "<class 'pandas.core.frame.DataFrame'>\n",
      "RangeIndex: 1365 entries, 0 to 1364\n",
      "Data columns (total 9 columns):\n",
      "Date                                          1365 non-null datetime64[ns]\n",
      "Name of State / UT                            1365 non-null object\n",
      "Total Confirmed cases (Indian National)       1365 non-null int64\n",
      "Total Confirmed cases ( Foreign National )    1365 non-null int64\n",
      "Cured/Discharged/Migrated                     1365 non-null int64\n",
      "Latitude                                      1365 non-null float64\n",
      "Longitude                                     1365 non-null float64\n",
      "Death                                         1365 non-null int64\n",
      "Total Confirmed cases                         1365 non-null int64\n",
      "dtypes: datetime64[ns](1), float64(2), int64(5), object(1)\n",
      "memory usage: 96.1+ KB\n"
     ]
    }
   ],
   "source": [
    "data.info()"
   ]
  },
  {
   "cell_type": "markdown",
   "metadata": {},
   "source": [
    "Extracting cases per month"
   ]
  },
  {
   "cell_type": "code",
   "execution_count": 9,
   "metadata": {},
   "outputs": [],
   "source": [
    "data.drop(columns = ['Total Confirmed cases (Indian National)', 'Total Confirmed cases ( Foreign National )'], inplace = True)"
   ]
  },
  {
   "cell_type": "code",
   "execution_count": 10,
   "metadata": {},
   "outputs": [
    {
     "data": {
      "text/html": [
       "<div>\n",
       "<style scoped>\n",
       "    .dataframe tbody tr th:only-of-type {\n",
       "        vertical-align: middle;\n",
       "    }\n",
       "\n",
       "    .dataframe tbody tr th {\n",
       "        vertical-align: top;\n",
       "    }\n",
       "\n",
       "    .dataframe thead th {\n",
       "        text-align: right;\n",
       "    }\n",
       "</style>\n",
       "<table border=\"1\" class=\"dataframe\">\n",
       "  <thead>\n",
       "    <tr style=\"text-align: right;\">\n",
       "      <th></th>\n",
       "      <th>Date</th>\n",
       "      <th>Name of State / UT</th>\n",
       "      <th>Cured/Discharged/Migrated</th>\n",
       "      <th>Latitude</th>\n",
       "      <th>Longitude</th>\n",
       "      <th>Death</th>\n",
       "      <th>Total Confirmed cases</th>\n",
       "    </tr>\n",
       "  </thead>\n",
       "  <tbody>\n",
       "    <tr>\n",
       "      <th>0</th>\n",
       "      <td>2020-01-30</td>\n",
       "      <td>Kerala</td>\n",
       "      <td>0</td>\n",
       "      <td>10.8505</td>\n",
       "      <td>76.2711</td>\n",
       "      <td>0</td>\n",
       "      <td>1</td>\n",
       "    </tr>\n",
       "    <tr>\n",
       "      <th>1</th>\n",
       "      <td>2020-01-31</td>\n",
       "      <td>Kerala</td>\n",
       "      <td>0</td>\n",
       "      <td>10.8505</td>\n",
       "      <td>76.2711</td>\n",
       "      <td>0</td>\n",
       "      <td>1</td>\n",
       "    </tr>\n",
       "    <tr>\n",
       "      <th>2</th>\n",
       "      <td>2020-02-01</td>\n",
       "      <td>Kerala</td>\n",
       "      <td>0</td>\n",
       "      <td>10.8505</td>\n",
       "      <td>76.2711</td>\n",
       "      <td>0</td>\n",
       "      <td>2</td>\n",
       "    </tr>\n",
       "    <tr>\n",
       "      <th>3</th>\n",
       "      <td>2020-02-02</td>\n",
       "      <td>Kerala</td>\n",
       "      <td>0</td>\n",
       "      <td>10.8505</td>\n",
       "      <td>76.2711</td>\n",
       "      <td>0</td>\n",
       "      <td>3</td>\n",
       "    </tr>\n",
       "    <tr>\n",
       "      <th>4</th>\n",
       "      <td>2020-02-03</td>\n",
       "      <td>Kerala</td>\n",
       "      <td>0</td>\n",
       "      <td>10.8505</td>\n",
       "      <td>76.2711</td>\n",
       "      <td>0</td>\n",
       "      <td>3</td>\n",
       "    </tr>\n",
       "  </tbody>\n",
       "</table>\n",
       "</div>"
      ],
      "text/plain": [
       "        Date Name of State / UT  Cured/Discharged/Migrated  Latitude  \\\n",
       "0 2020-01-30             Kerala                          0   10.8505   \n",
       "1 2020-01-31             Kerala                          0   10.8505   \n",
       "2 2020-02-01             Kerala                          0   10.8505   \n",
       "3 2020-02-02             Kerala                          0   10.8505   \n",
       "4 2020-02-03             Kerala                          0   10.8505   \n",
       "\n",
       "   Longitude  Death  Total Confirmed cases  \n",
       "0    76.2711      0                      1  \n",
       "1    76.2711      0                      1  \n",
       "2    76.2711      0                      2  \n",
       "3    76.2711      0                      3  \n",
       "4    76.2711      0                      3  "
      ]
     },
     "execution_count": 10,
     "metadata": {},
     "output_type": "execute_result"
    }
   ],
   "source": [
    "data.head()"
   ]
  },
  {
   "cell_type": "code",
   "execution_count": 11,
   "metadata": {},
   "outputs": [],
   "source": [
    "data.columns = ['Date', 'State', 'Recovered', 'Lat', 'Long', 'Deaths', 'Confirmed']"
   ]
  },
  {
   "cell_type": "code",
   "execution_count": 12,
   "metadata": {},
   "outputs": [],
   "source": [
    "data['Active'] = data['Confirmed'] - data['Recovered'] - data['Deaths']"
   ]
  },
  {
   "cell_type": "code",
   "execution_count": 13,
   "metadata": {},
   "outputs": [
    {
     "data": {
      "text/html": [
       "<div>\n",
       "<style scoped>\n",
       "    .dataframe tbody tr th:only-of-type {\n",
       "        vertical-align: middle;\n",
       "    }\n",
       "\n",
       "    .dataframe tbody tr th {\n",
       "        vertical-align: top;\n",
       "    }\n",
       "\n",
       "    .dataframe thead th {\n",
       "        text-align: right;\n",
       "    }\n",
       "</style>\n",
       "<table border=\"1\" class=\"dataframe\">\n",
       "  <thead>\n",
       "    <tr style=\"text-align: right;\">\n",
       "      <th></th>\n",
       "      <th>Date</th>\n",
       "      <th>State</th>\n",
       "      <th>Recovered</th>\n",
       "      <th>Lat</th>\n",
       "      <th>Long</th>\n",
       "      <th>Deaths</th>\n",
       "      <th>Confirmed</th>\n",
       "      <th>Active</th>\n",
       "    </tr>\n",
       "  </thead>\n",
       "  <tbody>\n",
       "    <tr>\n",
       "      <th>0</th>\n",
       "      <td>2020-01-30</td>\n",
       "      <td>Kerala</td>\n",
       "      <td>0</td>\n",
       "      <td>10.8505</td>\n",
       "      <td>76.2711</td>\n",
       "      <td>0</td>\n",
       "      <td>1</td>\n",
       "      <td>1</td>\n",
       "    </tr>\n",
       "    <tr>\n",
       "      <th>1</th>\n",
       "      <td>2020-01-31</td>\n",
       "      <td>Kerala</td>\n",
       "      <td>0</td>\n",
       "      <td>10.8505</td>\n",
       "      <td>76.2711</td>\n",
       "      <td>0</td>\n",
       "      <td>1</td>\n",
       "      <td>1</td>\n",
       "    </tr>\n",
       "    <tr>\n",
       "      <th>2</th>\n",
       "      <td>2020-02-01</td>\n",
       "      <td>Kerala</td>\n",
       "      <td>0</td>\n",
       "      <td>10.8505</td>\n",
       "      <td>76.2711</td>\n",
       "      <td>0</td>\n",
       "      <td>2</td>\n",
       "      <td>2</td>\n",
       "    </tr>\n",
       "    <tr>\n",
       "      <th>3</th>\n",
       "      <td>2020-02-02</td>\n",
       "      <td>Kerala</td>\n",
       "      <td>0</td>\n",
       "      <td>10.8505</td>\n",
       "      <td>76.2711</td>\n",
       "      <td>0</td>\n",
       "      <td>3</td>\n",
       "      <td>3</td>\n",
       "    </tr>\n",
       "    <tr>\n",
       "      <th>4</th>\n",
       "      <td>2020-02-03</td>\n",
       "      <td>Kerala</td>\n",
       "      <td>0</td>\n",
       "      <td>10.8505</td>\n",
       "      <td>76.2711</td>\n",
       "      <td>0</td>\n",
       "      <td>3</td>\n",
       "      <td>3</td>\n",
       "    </tr>\n",
       "  </tbody>\n",
       "</table>\n",
       "</div>"
      ],
      "text/plain": [
       "        Date   State  Recovered      Lat     Long  Deaths  Confirmed  Active\n",
       "0 2020-01-30  Kerala          0  10.8505  76.2711       0          1       1\n",
       "1 2020-01-31  Kerala          0  10.8505  76.2711       0          1       1\n",
       "2 2020-02-01  Kerala          0  10.8505  76.2711       0          2       2\n",
       "3 2020-02-02  Kerala          0  10.8505  76.2711       0          3       3\n",
       "4 2020-02-03  Kerala          0  10.8505  76.2711       0          3       3"
      ]
     },
     "execution_count": 13,
     "metadata": {},
     "output_type": "execute_result"
    }
   ],
   "source": [
    "data.head()"
   ]
  },
  {
   "cell_type": "markdown",
   "metadata": {},
   "source": [
    "## Cases till date"
   ]
  },
  {
   "cell_type": "code",
   "execution_count": 14,
   "metadata": {},
   "outputs": [],
   "source": [
    "till_date = data[data['Date'] == max(data['Date'])]\n",
    "till_date.sort_values('Active', ascending = False, inplace = True)"
   ]
  },
  {
   "cell_type": "code",
   "execution_count": 15,
   "metadata": {},
   "outputs": [
    {
     "data": {
      "text/html": [
       "<div>\n",
       "<style scoped>\n",
       "    .dataframe tbody tr th:only-of-type {\n",
       "        vertical-align: middle;\n",
       "    }\n",
       "\n",
       "    .dataframe tbody tr th {\n",
       "        vertical-align: top;\n",
       "    }\n",
       "\n",
       "    .dataframe thead th {\n",
       "        text-align: right;\n",
       "    }\n",
       "</style>\n",
       "<table border=\"1\" class=\"dataframe\">\n",
       "  <thead>\n",
       "    <tr style=\"text-align: right;\">\n",
       "      <th></th>\n",
       "      <th>Date</th>\n",
       "      <th>State</th>\n",
       "      <th>Recovered</th>\n",
       "      <th>Lat</th>\n",
       "      <th>Long</th>\n",
       "      <th>Deaths</th>\n",
       "      <th>Confirmed</th>\n",
       "      <th>Active</th>\n",
       "    </tr>\n",
       "  </thead>\n",
       "  <tbody>\n",
       "    <tr>\n",
       "      <th>1333</th>\n",
       "      <td>2020-04-27</td>\n",
       "      <td>Andaman and Nicobar Islands</td>\n",
       "      <td>11</td>\n",
       "      <td>11.7401</td>\n",
       "      <td>92.6586</td>\n",
       "      <td>0</td>\n",
       "      <td>33</td>\n",
       "      <td>22</td>\n",
       "    </tr>\n",
       "    <tr>\n",
       "      <th>1334</th>\n",
       "      <td>2020-04-27</td>\n",
       "      <td>Andhra Pradesh</td>\n",
       "      <td>231</td>\n",
       "      <td>15.9129</td>\n",
       "      <td>79.7400</td>\n",
       "      <td>31</td>\n",
       "      <td>1097</td>\n",
       "      <td>835</td>\n",
       "    </tr>\n",
       "    <tr>\n",
       "      <th>1335</th>\n",
       "      <td>2020-04-27</td>\n",
       "      <td>Arunachal Pradesh</td>\n",
       "      <td>1</td>\n",
       "      <td>28.2180</td>\n",
       "      <td>94.7278</td>\n",
       "      <td>0</td>\n",
       "      <td>1</td>\n",
       "      <td>0</td>\n",
       "    </tr>\n",
       "    <tr>\n",
       "      <th>1336</th>\n",
       "      <td>2020-04-27</td>\n",
       "      <td>Assam</td>\n",
       "      <td>27</td>\n",
       "      <td>26.2006</td>\n",
       "      <td>92.9376</td>\n",
       "      <td>1</td>\n",
       "      <td>36</td>\n",
       "      <td>8</td>\n",
       "    </tr>\n",
       "    <tr>\n",
       "      <th>1337</th>\n",
       "      <td>2020-04-27</td>\n",
       "      <td>Bihar</td>\n",
       "      <td>56</td>\n",
       "      <td>25.0961</td>\n",
       "      <td>85.3131</td>\n",
       "      <td>2</td>\n",
       "      <td>274</td>\n",
       "      <td>216</td>\n",
       "    </tr>\n",
       "  </tbody>\n",
       "</table>\n",
       "</div>"
      ],
      "text/plain": [
       "           Date                        State  Recovered      Lat     Long  \\\n",
       "1333 2020-04-27  Andaman and Nicobar Islands         11  11.7401  92.6586   \n",
       "1334 2020-04-27               Andhra Pradesh        231  15.9129  79.7400   \n",
       "1335 2020-04-27            Arunachal Pradesh          1  28.2180  94.7278   \n",
       "1336 2020-04-27                        Assam         27  26.2006  92.9376   \n",
       "1337 2020-04-27                        Bihar         56  25.0961  85.3131   \n",
       "\n",
       "      Deaths  Confirmed  Active  \n",
       "1333       0         33      22  \n",
       "1334      31       1097     835  \n",
       "1335       0          1       0  \n",
       "1336       1         36       8  \n",
       "1337       2        274     216  "
      ]
     },
     "execution_count": 15,
     "metadata": {},
     "output_type": "execute_result"
    }
   ],
   "source": [
    "till_date.head()"
   ]
  },
  {
   "cell_type": "code",
   "execution_count": 186,
   "metadata": {},
   "outputs": [
    {
     "name": "stderr",
     "output_type": "stream",
     "text": [
      "C:\\Users\\Ritika\\.conda\\envs\\usual\\lib\\site-packages\\ipykernel_launcher.py:6: RuntimeWarning: divide by zero encountered in log\n",
      "  \n"
     ]
    },
    {
     "data": {
      "text/html": [
       "<div style=\"width:100%;\"><div style=\"position:relative;width:100%;height:0;padding-bottom:60%;\"><iframe src=\"about:blank\" style=\"position:absolute;width:100%;height:100%;left:0;top:0;border:none !important;\" data-html=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 onload=\"this.contentDocument.open();this.contentDocument.write(atob(this.getAttribute('data-html')));this.contentDocument.close();\" allowfullscreen webkitallowfullscreen mozallowfullscreen></iframe></div></div>"
      ],
      "text/plain": [
       "<folium.folium.Map at 0x257473d72e8>"
      ]
     },
     "execution_count": 186,
     "metadata": {},
     "output_type": "execute_result"
    }
   ],
   "source": [
    "import folium\n",
    "map = folium.Map(location=[20.5937, 78.9629], zoom_start=4, tiles=\"Stamen Terrain\")\n",
    "\n",
    "for lat, lon,state,Confirmed,Recovered,Deaths,Active in zip(till_date['Lat'], till_date['Long'],till_date['State'],till_date['Confirmed'],till_date['Recovered'],till_date['Deaths'],till_date['Active']):\n",
    "    folium.CircleMarker([lat, lon],\n",
    "                        radius= 2 + np.log(Active)*2,\n",
    "                        color = 'red',\n",
    "                        popup =(\n",
    "                        'State: ' + str(state) + '<br>'\n",
    "                        'Active: ' + str(Active) + '<br>'\n",
    "                        'Confirmed: ' + str(Confirmed) + '<br>'\n",
    "                        'Recovered: ' + str(Recovered) + '<br>'\n",
    "                        'Deaths: ' + str(Deaths) + '<br>'),\n",
    "                        fill_color='red',\n",
    "                        fill_opacity=0.05 ).add_to(map)\n",
    "map"
   ]
  },
  {
   "cell_type": "markdown",
   "metadata": {},
   "source": [
    "# Cases time line Visualization"
   ]
  },
  {
   "cell_type": "code",
   "execution_count": 213,
   "metadata": {},
   "outputs": [
    {
     "data": {
      "text/plain": [
       "<matplotlib.legend.Legend at 0x2575293a0f0>"
      ]
     },
     "execution_count": 213,
     "metadata": {},
     "output_type": "execute_result"
    },
    {
     "data": {
      "image/png": "[encoded data removed]",
      "text/plain": [
       "<Figure size 432x288 with 1 Axes>"
      ]
     },
     "metadata": {
      "needs_background": "light"
     },
     "output_type": "display_data"
    }
   ],
   "source": [
    "sns.lineplot(x = 'Date', y = 'Active', data = data, hue='State')\n",
    "plt.legend(loc = 'lower center', ncol = 5, bbox_to_anchor = (0.5,-0.75))"
   ]
  },
  {
   "cell_type": "markdown",
   "metadata": {},
   "source": [
    "# EDA for Maharashtra, India"
   ]
  },
  {
   "cell_type": "markdown",
   "metadata": {},
   "source": [
    "#### Focusing on state of Maharashtra as it has the highest number of cases"
   ]
  },
  {
   "cell_type": "code",
   "execution_count": 80,
   "metadata": {},
   "outputs": [],
   "source": [
    "maha = data[data['State'] == 'Maharashtra']"
   ]
  },
  {
   "cell_type": "code",
   "execution_count": 81,
   "metadata": {},
   "outputs": [
    {
     "data": {
      "text/html": [
       "<div>\n",
       "<style scoped>\n",
       "    .dataframe tbody tr th:only-of-type {\n",
       "        vertical-align: middle;\n",
       "    }\n",
       "\n",
       "    .dataframe tbody tr th {\n",
       "        vertical-align: top;\n",
       "    }\n",
       "\n",
       "    .dataframe thead th {\n",
       "        text-align: right;\n",
       "    }\n",
       "</style>\n",
       "<table border=\"1\" class=\"dataframe\">\n",
       "  <thead>\n",
       "    <tr style=\"text-align: right;\">\n",
       "      <th></th>\n",
       "      <th>Date</th>\n",
       "      <th>State</th>\n",
       "      <th>Recovered</th>\n",
       "      <th>Lat</th>\n",
       "      <th>Long</th>\n",
       "      <th>Deaths</th>\n",
       "      <th>Confirmed</th>\n",
       "      <th>Active</th>\n",
       "    </tr>\n",
       "  </thead>\n",
       "  <tbody>\n",
       "    <tr>\n",
       "      <th>76</th>\n",
       "      <td>2020-03-09</td>\n",
       "      <td>Maharashtra</td>\n",
       "      <td>0</td>\n",
       "      <td>19.7515</td>\n",
       "      <td>75.7139</td>\n",
       "      <td>0</td>\n",
       "      <td>2</td>\n",
       "      <td>2</td>\n",
       "    </tr>\n",
       "    <tr>\n",
       "      <th>88</th>\n",
       "      <td>2020-03-10</td>\n",
       "      <td>Maharashtra</td>\n",
       "      <td>0</td>\n",
       "      <td>19.7515</td>\n",
       "      <td>75.7139</td>\n",
       "      <td>0</td>\n",
       "      <td>5</td>\n",
       "      <td>5</td>\n",
       "    </tr>\n",
       "    <tr>\n",
       "      <th>100</th>\n",
       "      <td>2020-03-11</td>\n",
       "      <td>Maharashtra</td>\n",
       "      <td>0</td>\n",
       "      <td>19.7515</td>\n",
       "      <td>75.7139</td>\n",
       "      <td>0</td>\n",
       "      <td>10</td>\n",
       "      <td>10</td>\n",
       "    </tr>\n",
       "    <tr>\n",
       "      <th>113</th>\n",
       "      <td>2020-03-12</td>\n",
       "      <td>Maharashtra</td>\n",
       "      <td>0</td>\n",
       "      <td>19.7515</td>\n",
       "      <td>75.7139</td>\n",
       "      <td>0</td>\n",
       "      <td>11</td>\n",
       "      <td>11</td>\n",
       "    </tr>\n",
       "    <tr>\n",
       "      <th>126</th>\n",
       "      <td>2020-03-13</td>\n",
       "      <td>Maharashtra</td>\n",
       "      <td>0</td>\n",
       "      <td>19.7515</td>\n",
       "      <td>75.7139</td>\n",
       "      <td>0</td>\n",
       "      <td>11</td>\n",
       "      <td>11</td>\n",
       "    </tr>\n",
       "  </tbody>\n",
       "</table>\n",
       "</div>"
      ],
      "text/plain": [
       "          Date        State  Recovered      Lat     Long  Deaths  Confirmed  \\\n",
       "76  2020-03-09  Maharashtra          0  19.7515  75.7139       0          2   \n",
       "88  2020-03-10  Maharashtra          0  19.7515  75.7139       0          5   \n",
       "100 2020-03-11  Maharashtra          0  19.7515  75.7139       0         10   \n",
       "113 2020-03-12  Maharashtra          0  19.7515  75.7139       0         11   \n",
       "126 2020-03-13  Maharashtra          0  19.7515  75.7139       0         11   \n",
       "\n",
       "     Active  \n",
       "76        2  \n",
       "88        5  \n",
       "100      10  \n",
       "113      11  \n",
       "126      11  "
      ]
     },
     "execution_count": 81,
     "metadata": {},
     "output_type": "execute_result"
    }
   ],
   "source": [
    "maha.head()"
   ]
  },
  {
   "cell_type": "code",
   "execution_count": 82,
   "metadata": {},
   "outputs": [
    {
     "data": {
      "text/plain": [
       "(50, 8)"
      ]
     },
     "execution_count": 82,
     "metadata": {},
     "output_type": "execute_result"
    }
   ],
   "source": [
    "maha.shape"
   ]
  },
  {
   "cell_type": "code",
   "execution_count": 83,
   "metadata": {},
   "outputs": [
    {
     "name": "stdout",
     "output_type": "stream",
     "text": [
      "The first case of COVID19 was seen on 2020-03-09. Till date 2020-04-27, the cases went up to 6650\n"
     ]
    }
   ],
   "source": [
    "print(\"The first case of COVID19 was seen on {}. Till date {}, the cases went up to {}\".\\\n",
    "      format(str(min(maha['Date']).date()), str(max(maha['Date']).date()), int(maha['Active'][maha['Date'] == max(maha['Date'])])))"
   ]
  },
  {
   "cell_type": "code",
   "execution_count": 84,
   "metadata": {},
   "outputs": [],
   "source": [
    "maha_lat = maha['Lat'][76]\n",
    "maha_lang = maha['Long'][76]\n",
    "maha.drop(columns = ['State','Lat', 'Long'], axis = 1, inplace=True)\n",
    "maha.reset_index(drop=True,inplace = True)"
   ]
  },
  {
   "cell_type": "code",
   "execution_count": 85,
   "metadata": {},
   "outputs": [
    {
     "data": {
      "text/html": [
       "<div>\n",
       "<style scoped>\n",
       "    .dataframe tbody tr th:only-of-type {\n",
       "        vertical-align: middle;\n",
       "    }\n",
       "\n",
       "    .dataframe tbody tr th {\n",
       "        vertical-align: top;\n",
       "    }\n",
       "\n",
       "    .dataframe thead th {\n",
       "        text-align: right;\n",
       "    }\n",
       "</style>\n",
       "<table border=\"1\" class=\"dataframe\">\n",
       "  <thead>\n",
       "    <tr style=\"text-align: right;\">\n",
       "      <th></th>\n",
       "      <th>Date</th>\n",
       "      <th>Recovered</th>\n",
       "      <th>Deaths</th>\n",
       "      <th>Confirmed</th>\n",
       "      <th>Active</th>\n",
       "    </tr>\n",
       "  </thead>\n",
       "  <tbody>\n",
       "    <tr>\n",
       "      <th>0</th>\n",
       "      <td>2020-03-09</td>\n",
       "      <td>0</td>\n",
       "      <td>0</td>\n",
       "      <td>2</td>\n",
       "      <td>2</td>\n",
       "    </tr>\n",
       "    <tr>\n",
       "      <th>1</th>\n",
       "      <td>2020-03-10</td>\n",
       "      <td>0</td>\n",
       "      <td>0</td>\n",
       "      <td>5</td>\n",
       "      <td>5</td>\n",
       "    </tr>\n",
       "    <tr>\n",
       "      <th>2</th>\n",
       "      <td>2020-03-11</td>\n",
       "      <td>0</td>\n",
       "      <td>0</td>\n",
       "      <td>10</td>\n",
       "      <td>10</td>\n",
       "    </tr>\n",
       "    <tr>\n",
       "      <th>3</th>\n",
       "      <td>2020-03-12</td>\n",
       "      <td>0</td>\n",
       "      <td>0</td>\n",
       "      <td>11</td>\n",
       "      <td>11</td>\n",
       "    </tr>\n",
       "    <tr>\n",
       "      <th>4</th>\n",
       "      <td>2020-03-13</td>\n",
       "      <td>0</td>\n",
       "      <td>0</td>\n",
       "      <td>11</td>\n",
       "      <td>11</td>\n",
       "    </tr>\n",
       "  </tbody>\n",
       "</table>\n",
       "</div>"
      ],
      "text/plain": [
       "        Date  Recovered  Deaths  Confirmed  Active\n",
       "0 2020-03-09          0       0          2       2\n",
       "1 2020-03-10          0       0          5       5\n",
       "2 2020-03-11          0       0         10      10\n",
       "3 2020-03-12          0       0         11      11\n",
       "4 2020-03-13          0       0         11      11"
      ]
     },
     "execution_count": 85,
     "metadata": {},
     "output_type": "execute_result"
    }
   ],
   "source": [
    "maha.head()"
   ]
  },
  {
   "cell_type": "code",
   "execution_count": 118,
   "metadata": {},
   "outputs": [
    {
     "data": {
      "text/plain": [
       "<matplotlib.axes._subplots.AxesSubplot at 0x257446cdc88>"
      ]
     },
     "execution_count": 118,
     "metadata": {},
     "output_type": "execute_result"
    },
    {
     "data": {
      "image/png": "[encoded data removed]",
      "text/plain": [
       "<Figure size 1080x360 with 1 Axes>"
      ]
     },
     "metadata": {
      "needs_background": "light"
     },
     "output_type": "display_data"
    }
   ],
   "source": [
    "maha.plot(kind = 'line', x = 'Date', title = \"Trend in Maharashtra\", figsize = (15,5), fontsize = 10)"
   ]
  },
  {
   "cell_type": "code",
   "execution_count": 131,
   "metadata": {},
   "outputs": [
    {
     "name": "stderr",
     "output_type": "stream",
     "text": [
      "C:\\Users\\Ritika\\.conda\\envs\\usual\\lib\\site-packages\\ipykernel_launcher.py:1: SettingWithCopyWarning: \n",
      "A value is trying to be set on a copy of a slice from a DataFrame.\n",
      "Try using .loc[row_indexer,col_indexer] = value instead\n",
      "\n",
      "See the caveats in the documentation: http://pandas.pydata.org/pandas-docs/stable/indexing.html#indexing-view-versus-copy\n",
      "  \"\"\"Entry point for launching an IPython kernel.\n"
     ]
    }
   ],
   "source": [
    "maha['days'] = [i for i in range(1, maha.shape[0]+1)]"
   ]
  },
  {
   "cell_type": "code",
   "execution_count": 132,
   "metadata": {},
   "outputs": [
    {
     "data": {
      "text/html": [
       "<div>\n",
       "<style scoped>\n",
       "    .dataframe tbody tr th:only-of-type {\n",
       "        vertical-align: middle;\n",
       "    }\n",
       "\n",
       "    .dataframe tbody tr th {\n",
       "        vertical-align: top;\n",
       "    }\n",
       "\n",
       "    .dataframe thead th {\n",
       "        text-align: right;\n",
       "    }\n",
       "</style>\n",
       "<table border=\"1\" class=\"dataframe\">\n",
       "  <thead>\n",
       "    <tr style=\"text-align: right;\">\n",
       "      <th></th>\n",
       "      <th>Date</th>\n",
       "      <th>Recovered</th>\n",
       "      <th>Deaths</th>\n",
       "      <th>Confirmed</th>\n",
       "      <th>Active</th>\n",
       "      <th>days</th>\n",
       "    </tr>\n",
       "  </thead>\n",
       "  <tbody>\n",
       "    <tr>\n",
       "      <th>0</th>\n",
       "      <td>2020-03-09</td>\n",
       "      <td>0</td>\n",
       "      <td>0</td>\n",
       "      <td>2</td>\n",
       "      <td>2</td>\n",
       "      <td>1</td>\n",
       "    </tr>\n",
       "    <tr>\n",
       "      <th>1</th>\n",
       "      <td>2020-03-10</td>\n",
       "      <td>0</td>\n",
       "      <td>0</td>\n",
       "      <td>5</td>\n",
       "      <td>5</td>\n",
       "      <td>2</td>\n",
       "    </tr>\n",
       "    <tr>\n",
       "      <th>2</th>\n",
       "      <td>2020-03-11</td>\n",
       "      <td>0</td>\n",
       "      <td>0</td>\n",
       "      <td>10</td>\n",
       "      <td>10</td>\n",
       "      <td>3</td>\n",
       "    </tr>\n",
       "    <tr>\n",
       "      <th>3</th>\n",
       "      <td>2020-03-12</td>\n",
       "      <td>0</td>\n",
       "      <td>0</td>\n",
       "      <td>11</td>\n",
       "      <td>11</td>\n",
       "      <td>4</td>\n",
       "    </tr>\n",
       "    <tr>\n",
       "      <th>4</th>\n",
       "      <td>2020-03-13</td>\n",
       "      <td>0</td>\n",
       "      <td>0</td>\n",
       "      <td>11</td>\n",
       "      <td>11</td>\n",
       "      <td>5</td>\n",
       "    </tr>\n",
       "  </tbody>\n",
       "</table>\n",
       "</div>"
      ],
      "text/plain": [
       "        Date  Recovered  Deaths  Confirmed  Active  days\n",
       "0 2020-03-09          0       0          2       2     1\n",
       "1 2020-03-10          0       0          5       5     2\n",
       "2 2020-03-11          0       0         10      10     3\n",
       "3 2020-03-12          0       0         11      11     4\n",
       "4 2020-03-13          0       0         11      11     5"
      ]
     },
     "execution_count": 132,
     "metadata": {},
     "output_type": "execute_result"
    }
   ],
   "source": [
    "maha.head()"
   ]
  },
  {
   "cell_type": "code",
   "execution_count": 143,
   "metadata": {},
   "outputs": [],
   "source": []
  },
  {
   "cell_type": "code",
   "execution_count": 144,
   "metadata": {},
   "outputs": [],
   "source": [
    "def sigmoid(x,c,a,b):\n",
    "     y = c*1 / (1 + np.exp(-a*(x-b)))\n",
    "     return y"
   ]
  },
  {
   "cell_type": "code",
   "execution_count": 158,
   "metadata": {},
   "outputs": [],
   "source": [
    "popt, pcov = curve_fit(sigmoid, maha['days'], maha['Active'], method='dogbox')"
   ]
  },
  {
   "cell_type": "code",
   "execution_count": 161,
   "metadata": {},
   "outputs": [],
   "source": [
    "x = np.linspace(0, 100)\n",
    "y = sigmoid(x, *popt)"
   ]
  },
  {
   "cell_type": "code",
   "execution_count": 162,
   "metadata": {},
   "outputs": [
    {
     "data": {
      "text/plain": [
       "<matplotlib.axes._subplots.AxesSubplot at 0x257487e2978>"
      ]
     },
     "execution_count": 162,
     "metadata": {},
     "output_type": "execute_result"
    },
    {
     "data": {
      "image/png": "[encoded data removed]",
      "text/plain": [
       "<Figure size 432x288 with 1 Axes>"
      ]
     },
     "metadata": {
      "needs_background": "light"
     },
     "output_type": "display_data"
    }
   ],
   "source": [
    "sns.scatterplot(x = 'days', y = 'Active', data = maha)\n",
    "sns.scatterplot(x = 'days', y = 'Recovered', data = maha)\n",
    "sns.lineplot(x = x, y = y)"
   ]
  },
  {
   "cell_type": "markdown",
   "metadata": {},
   "source": [
    "**Here, we can see that the sigmoidal curve flattens at around day 75 for Maharashtra**"
   ]
  },
  {
   "cell_type": "markdown",
   "metadata": {},
   "source": [
    "## India's Cumulative data"
   ]
  },
  {
   "cell_type": "code",
   "execution_count": 93,
   "metadata": {},
   "outputs": [],
   "source": [
    "india = data.groupby(data['Date'].dt.date).sum()\n",
    "india.drop(columns = ['Lat', 'Long'], inplace = True)"
   ]
  },
  {
   "cell_type": "code",
   "execution_count": 99,
   "metadata": {},
   "outputs": [],
   "source": [
    "india.reset_index(inplace = True)"
   ]
  },
  {
   "cell_type": "code",
   "execution_count": 164,
   "metadata": {},
   "outputs": [],
   "source": [
    "india['days'] = [i for i in range(1, india.shape[0]+1)]"
   ]
  },
  {
   "cell_type": "code",
   "execution_count": 165,
   "metadata": {},
   "outputs": [
    {
     "data": {
      "text/html": [
       "<div>\n",
       "<style scoped>\n",
       "    .dataframe tbody tr th:only-of-type {\n",
       "        vertical-align: middle;\n",
       "    }\n",
       "\n",
       "    .dataframe tbody tr th {\n",
       "        vertical-align: top;\n",
       "    }\n",
       "\n",
       "    .dataframe thead th {\n",
       "        text-align: right;\n",
       "    }\n",
       "</style>\n",
       "<table border=\"1\" class=\"dataframe\">\n",
       "  <thead>\n",
       "    <tr style=\"text-align: right;\">\n",
       "      <th></th>\n",
       "      <th>Date</th>\n",
       "      <th>Recovered</th>\n",
       "      <th>Deaths</th>\n",
       "      <th>Confirmed</th>\n",
       "      <th>Active</th>\n",
       "      <th>days</th>\n",
       "    </tr>\n",
       "  </thead>\n",
       "  <tbody>\n",
       "    <tr>\n",
       "      <th>0</th>\n",
       "      <td>2020-01-30</td>\n",
       "      <td>0</td>\n",
       "      <td>0</td>\n",
       "      <td>1</td>\n",
       "      <td>1</td>\n",
       "      <td>1</td>\n",
       "    </tr>\n",
       "    <tr>\n",
       "      <th>1</th>\n",
       "      <td>2020-01-31</td>\n",
       "      <td>0</td>\n",
       "      <td>0</td>\n",
       "      <td>1</td>\n",
       "      <td>1</td>\n",
       "      <td>2</td>\n",
       "    </tr>\n",
       "    <tr>\n",
       "      <th>2</th>\n",
       "      <td>2020-02-01</td>\n",
       "      <td>0</td>\n",
       "      <td>0</td>\n",
       "      <td>2</td>\n",
       "      <td>2</td>\n",
       "      <td>3</td>\n",
       "    </tr>\n",
       "    <tr>\n",
       "      <th>3</th>\n",
       "      <td>2020-02-02</td>\n",
       "      <td>0</td>\n",
       "      <td>0</td>\n",
       "      <td>3</td>\n",
       "      <td>3</td>\n",
       "      <td>4</td>\n",
       "    </tr>\n",
       "    <tr>\n",
       "      <th>4</th>\n",
       "      <td>2020-02-03</td>\n",
       "      <td>0</td>\n",
       "      <td>0</td>\n",
       "      <td>3</td>\n",
       "      <td>3</td>\n",
       "      <td>5</td>\n",
       "    </tr>\n",
       "  </tbody>\n",
       "</table>\n",
       "</div>"
      ],
      "text/plain": [
       "         Date  Recovered  Deaths  Confirmed  Active  days\n",
       "0  2020-01-30          0       0          1       1     1\n",
       "1  2020-01-31          0       0          1       1     2\n",
       "2  2020-02-01          0       0          2       2     3\n",
       "3  2020-02-02          0       0          3       3     4\n",
       "4  2020-02-03          0       0          3       3     5"
      ]
     },
     "execution_count": 165,
     "metadata": {},
     "output_type": "execute_result"
    }
   ],
   "source": [
    "india.head()"
   ]
  },
  {
   "cell_type": "code",
   "execution_count": 166,
   "metadata": {},
   "outputs": [
    {
     "data": {
      "text/plain": [
       "<matplotlib.axes._subplots.AxesSubplot at 0x25748839198>"
      ]
     },
     "execution_count": 166,
     "metadata": {},
     "output_type": "execute_result"
    },
    {
     "data": {
      "image/png": "[encoded data removed]",
      "text/plain": [
       "<Figure size 1080x360 with 1 Axes>"
      ]
     },
     "metadata": {
      "needs_background": "light"
     },
     "output_type": "display_data"
    }
   ],
   "source": [
    "india.plot(kind = 'line', x = 'days', title = \"Trend in India\", figsize = (15,5), fontsize = 10)"
   ]
  },
  {
   "cell_type": "code",
   "execution_count": 180,
   "metadata": {},
   "outputs": [],
   "source": [
    "population=1.332*10**9\n",
    "popt_ind, pcov_ind = curve_fit(sigmoid, india['days'], india['Active'])"
   ]
  },
  {
   "cell_type": "code",
   "execution_count": 183,
   "metadata": {},
   "outputs": [],
   "source": [
    "x_ind = np.linspace(0, 120)\n",
    "y_ind = sigmoid(x_ind, *popt_ind)"
   ]
  },
  {
   "cell_type": "code",
   "execution_count": 184,
   "metadata": {},
   "outputs": [
    {
     "data": {
      "text/plain": [
       "<matplotlib.axes._subplots.AxesSubplot at 0x2574744ed30>"
      ]
     },
     "execution_count": 184,
     "metadata": {},
     "output_type": "execute_result"
    },
    {
     "data": {
      "image/png": "[encoded data removed]",
      "text/plain": [
       "<Figure size 432x288 with 1 Axes>"
      ]
     },
     "metadata": {
      "needs_background": "light"
     },
     "output_type": "display_data"
    }
   ],
   "source": [
    "sns.scatterplot(x = 'days', y = 'Active', data = india)\n",
    "sns.scatterplot(x = 'days', y = 'Recovered', data = india)\n",
    "sns.lineplot(x = x_ind, y = y_ind)"
   ]
  },
  {
   "cell_type": "markdown",
   "metadata": {},
   "source": [
    "**Here, we can see that the sigmoidal curve flattens at around day 115 for India**"
   ]
  }
 ],
 "metadata": {
  "kernelspec": {
   "display_name": "Python 3",
   "language": "python",
   "name": "python3"
  },
  "language_info": {
   "codemirror_mode": {
    "name": "ipython",
    "version": 3
   },
   "file_extension": ".py",
   "mimetype": "text/x-python",
   "name": "python",
   "nbconvert_exporter": "python",
   "pygments_lexer": "ipython3",
   "version": "3.7.1"
  }
 },
 "nbformat": 4,
 "nbformat_minor": 2
}
